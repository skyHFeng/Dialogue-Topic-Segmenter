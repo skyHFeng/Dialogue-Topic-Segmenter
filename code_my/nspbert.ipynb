{
 "cells": [
  {
   "cell_type": "code",
   "execution_count": 1,
   "id": "02997ffc",
   "metadata": {},
   "outputs": [],
   "source": [
    "from transformers import BertTokenizer\n",
    "from transformers.models.bert.modeling_bert import BertForNextSentencePrediction"
   ]
  },
  {
   "cell_type": "markdown",
   "id": "71bbc098",
   "metadata": {},
   "source": [
    "加载分词器和预训练模型"
   ]
  },
  {
   "cell_type": "code",
   "execution_count": 2,
   "id": "37f40c26",
   "metadata": {},
   "outputs": [
    {
     "name": "stderr",
     "output_type": "stream",
     "text": [
      "Some weights of the model checkpoint at bert-base-uncased were not used when initializing BertForNextSentencePrediction: ['cls.predictions.decoder.weight', 'cls.predictions.bias', 'cls.predictions.transform.dense.weight', 'cls.predictions.transform.LayerNorm.bias', 'cls.predictions.transform.LayerNorm.weight', 'cls.predictions.transform.dense.bias']\n",
      "- This IS expected if you are initializing BertForNextSentencePrediction from the checkpoint of a model trained on another task or with another architecture (e.g. initializing a BertForSequenceClassification model from a BertForPreTraining model).\n",
      "- This IS NOT expected if you are initializing BertForNextSentencePrediction from the checkpoint of a model that you expect to be exactly identical (initializing a BertForSequenceClassification model from a BertForSequenceClassification model).\n"
     ]
    }
   ],
   "source": [
    "tokenizer = BertTokenizer.from_pretrained('bert-base-uncased')\n",
    "model = BertForNextSentencePrediction.from_pretrained(\"bert-base-uncased\")"
   ]
  },
  {
   "cell_type": "markdown",
   "id": "bbc3349b",
   "metadata": {},
   "source": [
    "输入样例"
   ]
  },
  {
   "cell_type": "code",
   "execution_count": 3,
   "id": "5a8cf51d",
   "metadata": {},
   "outputs": [],
   "source": [
    "sentences = [(\"This is an example sentence\", \"Each sentence is converted\")]"
   ]
  },
  {
   "cell_type": "markdown",
   "id": "60748bb2",
   "metadata": {},
   "source": [
    "编码"
   ]
  },
  {
   "cell_type": "code",
   "execution_count": 4,
   "id": "d0f9ef89",
   "metadata": {},
   "outputs": [],
   "source": [
    "encoded_input = tokenizer.batch_encode_plus(batch_text_or_text_pairs=sentences, padding=True, truncation=True, return_tensors='pt')\n",
    "output = model(encoded_input[\"input_ids\"], encoded_input[\"attention_mask\"], encoded_input[\"token_type_ids\"])\n",
    "seq_relationship_scores = output[\"logits\"]"
   ]
  },
  {
   "cell_type": "code",
   "execution_count": 5,
   "id": "c3a61c8a",
   "metadata": {},
   "outputs": [
    {
     "data": {
      "text/plain": [
       "{'input_ids': tensor([[ 101, 2023, 2003, 2019, 2742, 6251,  102, 2169, 6251, 2003, 4991,  102]]), 'token_type_ids': tensor([[0, 0, 0, 0, 0, 0, 0, 1, 1, 1, 1, 1]]), 'attention_mask': tensor([[1, 1, 1, 1, 1, 1, 1, 1, 1, 1, 1, 1]])}"
      ]
     },
     "execution_count": 5,
     "metadata": {},
     "output_type": "execute_result"
    }
   ],
   "source": [
    "encoded_input"
   ]
  },
  {
   "cell_type": "code",
   "execution_count": 6,
   "id": "e55d3e95",
   "metadata": {},
   "outputs": [
    {
     "data": {
      "text/plain": [
       "NextSentencePredictorOutput(loss=None, logits=tensor([[ 5.8914, -5.7349]], grad_fn=<AddmmBackward0>), hidden_states=None, attentions=None)"
      ]
     },
     "execution_count": 6,
     "metadata": {},
     "output_type": "execute_result"
    }
   ],
   "source": [
    "output"
   ]
  },
  {
   "cell_type": "code",
   "execution_count": 7,
   "id": "e213fbf8",
   "metadata": {},
   "outputs": [
    {
     "data": {
      "text/plain": [
       "tensor([[ 5.8914, -5.7349]], grad_fn=<AddmmBackward0>)"
      ]
     },
     "execution_count": 7,
     "metadata": {},
     "output_type": "execute_result"
    }
   ],
   "source": [
    "seq_relationship_scores"
   ]
  }
 ],
 "metadata": {
  "kernelspec": {
   "display_name": "Python [conda env:pytorch113]",
   "language": "python",
   "name": "conda-env-pytorch113-py"
  },
  "language_info": {
   "codemirror_mode": {
    "name": "ipython",
    "version": 3
   },
   "file_extension": ".py",
   "mimetype": "text/x-python",
   "name": "python",
   "nbconvert_exporter": "python",
   "pygments_lexer": "ipython3",
   "version": "3.10.6"
  }
 },
 "nbformat": 4,
 "nbformat_minor": 5
}
